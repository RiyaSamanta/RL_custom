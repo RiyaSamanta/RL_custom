{
 "cells": [
  {
   "cell_type": "code",
   "execution_count": null,
   "metadata": {},
   "outputs": [],
   "source": [
    "#https://sourceforge.net/projects/swig/files/swigwin/swigwin-4.0.2/swigwin-4.0.2.zip/download?use_mirror=ixpeering"
   ]
  },
  {
   "cell_type": "markdown",
   "metadata": {},
   "source": [
    "# 1. Import Dependencies"
   ]
  },
  {
   "cell_type": "code",
   "execution_count": 3,
   "metadata": {},
   "outputs": [],
   "source": [
    "import gym \n",
    "from gym import Env\n",
    "from gym.spaces import Discrete, Box, Dict, Tuple, MultiBinary, MultiDiscrete \n",
    "import numpy as np\n",
    "import random\n",
    "import os\n",
    "from stable_baselines3 import DQN\n",
    "from stable_baselines3.common.vec_env import VecFrameStack\n",
    "from stable_baselines3.common.evaluation import evaluate_policy"
   ]
  },
  {
   "cell_type": "code",
   "execution_count": 42,
   "metadata": {},
   "outputs": [
    {
     "data": {
      "text/plain": [
       "array([84.315605], dtype=float32)"
      ]
     },
     "execution_count": 42,
     "metadata": {},
     "output_type": "execute_result"
    }
   ],
   "source": [
    "Box(low=np.array([0]), high=np.array([100])).sample()"
   ]
  },
  {
   "cell_type": "markdown",
   "metadata": {},
   "source": [
    "# 3. Building an Environment"
   ]
  },
  {
   "cell_type": "code",
   "execution_count": 69,
   "metadata": {},
   "outputs": [],
   "source": [
    "class ShowerEnv(Env):\n",
    "    def __init__(self):\n",
    "        self.action_space = Discrete(9)\n",
    "        self.observation_space = Discrete(9)\n",
    "        self.state = 0\n",
    "        self.episode = 5\n",
    "        self.reward_matrix = np.array([\n",
    "                [0, -30, 0,0, 0, 0, 0, 0, 0],\n",
    "                [-40, 0, -50,0, -20, 0, 0, 0, 0],\n",
    "                [0, 0, 0,0, 0, 0, 0, 0, 0],\n",
    "                [0, 0, 0,0, 0, 0, 0, 0, 0],\n",
    "                [0,-30, 0,-50, 0,-50, 0,-10, 0],\n",
    "                [0, 0, 0,0, 0, 0, 0, 0, 0],\n",
    "                [0, 0, 0,0, 0, 0, 0, -10, 0],\n",
    "                [0, 0, 0,0,-20, 0, 100, 0, 200],\n",
    "                [0, 0, 0,0, 0, 0, 0, 0, 0], ])\n",
    "        \n",
    "        \n",
    "        \n",
    "    def step(self, action):\n",
    "        \n",
    "        if self.state != action:\n",
    "            if self.reward_matrix[self.state,action]==0:\n",
    "                done=True\n",
    "                \n",
    "        # Calculate reward\n",
    "        reward =  self.reward_matrix[self.state,action]\n",
    "        self.state =  action\n",
    "        print(\"inside step state and action,\",self.state,action)\n",
    "        \n",
    "        self.episode-= 1 \n",
    "        \n",
    "        \n",
    "        \n",
    "        # Check if shower is done\n",
    "        if self.episode <= 0: \n",
    "            done = True\n",
    "        else:\n",
    "            done = False\n",
    "        \n",
    "        info = {}\n",
    "        \n",
    "        # Return step information\n",
    "        return self.state, reward, done, info\n",
    "\n",
    "    def render(self):\n",
    "        # Implement viz\n",
    "        pass\n",
    "    \n",
    "    \n",
    "    def reset(self):\n",
    "        self.state = 0\n",
    "        self.episode = 5\n",
    "        return self.state"
   ]
  },
  {
   "cell_type": "code",
   "execution_count": 70,
   "metadata": {},
   "outputs": [],
   "source": [
    "env=ShowerEnv()"
   ]
  },
  {
   "cell_type": "markdown",
   "metadata": {},
   "source": [
    "# 4. Test Environment"
   ]
  },
  {
   "cell_type": "code",
   "execution_count": 71,
   "metadata": {},
   "outputs": [
    {
     "name": "stdout",
     "output_type": "stream",
     "text": [
      "state,action== 0 7\n",
      "inside step state and action, 7 7\n",
      "0\n",
      "state,action== 0 7\n",
      "inside step state and action, 7 7\n",
      "0\n",
      "state,action== 0 6\n",
      "inside step state and action, 6 6\n",
      "100\n",
      "state,action== 0 0\n",
      "inside step state and action, 0 0\n",
      "0\n",
      "state,action== 0 8\n",
      "inside step state and action, 8 8\n",
      "0\n",
      "Episode:1 Score:100\n",
      "state,action== 0 4\n",
      "inside step state and action, 4 4\n",
      "0\n",
      "state,action== 0 5\n",
      "inside step state and action, 5 5\n",
      "-50\n",
      "state,action== 0 0\n",
      "inside step state and action, 0 0\n",
      "0\n",
      "state,action== 0 8\n",
      "inside step state and action, 8 8\n",
      "0\n",
      "state,action== 0 8\n",
      "inside step state and action, 8 8\n",
      "0\n",
      "Episode:2 Score:-50\n",
      "state,action== 0 2\n",
      "inside step state and action, 2 2\n",
      "0\n",
      "state,action== 0 0\n",
      "inside step state and action, 0 0\n",
      "0\n",
      "state,action== 0 2\n",
      "inside step state and action, 2 2\n",
      "0\n",
      "state,action== 0 4\n",
      "inside step state and action, 4 4\n",
      "0\n",
      "state,action== 0 7\n",
      "inside step state and action, 7 7\n",
      "-10\n",
      "Episode:3 Score:-10\n",
      "state,action== 0 4\n",
      "inside step state and action, 4 4\n",
      "0\n",
      "state,action== 0 2\n",
      "inside step state and action, 2 2\n",
      "0\n",
      "state,action== 0 7\n",
      "inside step state and action, 7 7\n",
      "0\n",
      "state,action== 0 1\n",
      "inside step state and action, 1 1\n",
      "0\n",
      "state,action== 0 7\n",
      "inside step state and action, 7 7\n",
      "0\n",
      "Episode:4 Score:0\n",
      "state,action== 0 1\n",
      "inside step state and action, 1 1\n",
      "-30\n",
      "state,action== 0 3\n",
      "inside step state and action, 3 3\n",
      "0\n",
      "state,action== 0 8\n",
      "inside step state and action, 8 8\n",
      "0\n",
      "state,action== 0 1\n",
      "inside step state and action, 1 1\n",
      "0\n",
      "state,action== 0 4\n",
      "inside step state and action, 4 4\n",
      "-20\n",
      "Episode:5 Score:-50\n"
     ]
    }
   ],
   "source": [
    "episodes = 5\n",
    "for episode in range(1, episodes+1):\n",
    "    state = env.reset()\n",
    "    done = False\n",
    "    score = 0 \n",
    "    \n",
    "    while not done:\n",
    "        action = env.action_space.sample()\n",
    "        print(\"state,action==\",state,action)\n",
    "        n_state, reward, done, info = env.step(action)\n",
    "        print(reward)\n",
    "        score+=reward\n",
    "    print('Episode:{} Score:{}'.format(episode, score))\n",
    "env.close()"
   ]
  },
  {
   "cell_type": "code",
   "execution_count": 68,
   "metadata": {},
   "outputs": [],
   "source": [
    "env.close()"
   ]
  },
  {
   "cell_type": "markdown",
   "metadata": {},
   "source": [
    "# 5. Train Model"
   ]
  },
  {
   "cell_type": "code",
   "execution_count": null,
   "metadata": {},
   "outputs": [],
   "source": [
    "log_path = os.path.join('Training', 'Logs')"
   ]
  },
  {
   "cell_type": "code",
   "execution_count": null,
   "metadata": {},
   "outputs": [],
   "source": [
    "model = PPO(\"MlpPolicy\", env, verbose=1, tensorboard_log=log_path)"
   ]
  },
  {
   "cell_type": "code",
   "execution_count": null,
   "metadata": {
    "scrolled": true
   },
   "outputs": [],
   "source": [
    "model.learn(total_timesteps=400000)"
   ]
  },
  {
   "cell_type": "markdown",
   "metadata": {},
   "source": [
    "# 6. Save Model"
   ]
  },
  {
   "cell_type": "code",
   "execution_count": null,
   "metadata": {},
   "outputs": [],
   "source": [
    "model.save('PPO')"
   ]
  },
  {
   "cell_type": "code",
   "execution_count": null,
   "metadata": {},
   "outputs": [],
   "source": [
    "evaluate_policy(model, env, n_eval_episodes=10, render=True)"
   ]
  }
 ],
 "metadata": {
  "kernelspec": {
   "display_name": "Python 3",
   "language": "python",
   "name": "python3"
  },
  "language_info": {
   "codemirror_mode": {
    "name": "ipython",
    "version": 3
   },
   "file_extension": ".py",
   "mimetype": "text/x-python",
   "name": "python",
   "nbconvert_exporter": "python",
   "pygments_lexer": "ipython3",
   "version": "3.8.5"
  }
 },
 "nbformat": 4,
 "nbformat_minor": 2
}
